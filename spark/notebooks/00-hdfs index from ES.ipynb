{
 "cells": [
  {
   "cell_type": "code",
   "execution_count": 1,
   "source": [
    "# pyspark features\n",
    "from pyspark import SparkConf, SparkContext\n",
    "from pyspark.sql import *\n",
    "from pyspark.sql.functions import *\n",
    "\n",
    "# elasticsearch python wrapper\n",
    "from elasticsearch import Elasticsearch\n",
    "# test if the ES instance is running\n",
    "es = Elasticsearch([{\"host\": \"elasticsearch\"}])\n",
    "es.info(pretty=True)"
   ],
   "outputs": [
    {
     "output_type": "execute_result",
     "data": {
      "text/plain": [
       "{'name': 'ec518480eef0',\n",
       " 'cluster_name': 'unb-cluster',\n",
       " 'cluster_uuid': 'oK6fn8PQRY6DqCKi8snLpA',\n",
       " 'version': {'number': '7.11.1',\n",
       "  'build_flavor': 'default',\n",
       "  'build_type': 'docker',\n",
       "  'build_hash': 'ff17057114c2199c9c1bbecc727003a907c0db7a',\n",
       "  'build_date': '2021-02-15T13:44:09.394032Z',\n",
       "  'build_snapshot': False,\n",
       "  'lucene_version': '8.7.0',\n",
       "  'minimum_wire_compatibility_version': '6.8.0',\n",
       "  'minimum_index_compatibility_version': '6.0.0-beta1'},\n",
       " 'tagline': 'You Know, for Search'}"
      ]
     },
     "metadata": {},
     "execution_count": 1
    }
   ],
   "metadata": {}
  },
  {
   "cell_type": "code",
   "execution_count": 3,
   "source": [
    "# preconfigs for sparksession and elasticsearch\n",
    "conf = SparkConf()\n",
    "conf.setMaster(\"local\")\n",
    "conf.set(\"spark.driver.memory\", \"8g\")\n",
    "conf.set(\"spark.driver.allowMultipleContexts\", \"true\")\n",
    "conf.set(\"es.resource\", \"index/type\")\n",
    "conf.set(\"es.index.auto.create\", \"true\")\n",
    "conf.set(\"es.nodes.discovery\", \"true\")\n",
    "conf.set(\"es.nodes\", \"elasticsearch\")\n",
    "conf.set(\"es.port\",\"9200\")\n",
    "conf.set(\"spark.driver.extraClassPath\", \"/code/resources/elasticsearch-spark-20_2.11-7.11.1.jar\")"
   ],
   "outputs": [
    {
     "output_type": "execute_result",
     "data": {
      "text/plain": [
       "<pyspark.conf.SparkConf at 0x7f5efccc9b10>"
      ]
     },
     "metadata": {},
     "execution_count": 3
    }
   ],
   "metadata": {}
  },
  {
   "cell_type": "code",
   "execution_count": 4,
   "source": [
    "# initialize the spark session and get the sparkcontext\n",
    "appName = \"ESlogs\"\n",
    "spark = SparkSession.builder.config(conf=conf).appName(appName).getOrCreate()\n",
    "sc = spark.sparkContext\n",
    "sqlContext = SQLContext(sc)\n",
    "print(f'Spark version: {sc.version}')"
   ],
   "outputs": [
    {
     "output_type": "stream",
     "name": "stdout",
     "text": [
      "Spark version: 2.4.7\n"
     ]
    }
   ],
   "metadata": {}
  },
  {
   "cell_type": "code",
   "execution_count": 5,
   "source": [
    "logs_from_ES = spark.read.format(\"es\").load(\"HDFSlog\")"
   ],
   "outputs": [],
   "metadata": {}
  },
  {
   "cell_type": "code",
   "execution_count": 6,
   "source": [
    "logs_from_ES.show()"
   ],
   "outputs": [
    {
     "output_type": "stream",
     "name": "stdout",
     "text": [
      "+--------------------+--------+------------+--------------------+--------------------+\n",
      "|          @timestamp|@version|        host|             message|                path|\n",
      "+--------------------+--------+------------+--------------------+--------------------+\n",
      "|2021-06-02 09:54:...|       1|208174e8c458|54.210.20.202 - -...|/usr/share/logsta...|\n",
      "|2021-06-02 09:54:...|       1|208174e8c458|77.37.207.127 - -...|/usr/share/logsta...|\n",
      "|2021-06-02 09:54:...|       1|208174e8c458|54.210.20.202 - -...|/usr/share/logsta...|\n",
      "|2021-06-02 09:54:...|       1|208174e8c458|37.59.106.38 - - ...|/usr/share/logsta...|\n",
      "|2021-06-02 09:54:...|       1|208174e8c458|199.21.99.207 - -...|/usr/share/logsta...|\n",
      "|2021-06-02 09:54:...|       1|208174e8c458|54.210.20.202 - -...|/usr/share/logsta...|\n",
      "|2021-06-02 09:54:...|       1|208174e8c458|66.249.64.249 - -...|/usr/share/logsta...|\n",
      "|2021-06-02 09:54:...|       1|208174e8c458|66.249.89.194 - -...|/usr/share/logsta...|\n",
      "|2021-06-02 09:54:...|       1|208174e8c458|54.210.20.202 - -...|/usr/share/logsta...|\n",
      "|2021-06-02 09:54:...|       1|208174e8c458|82.193.121.3 - - ...|/usr/share/logsta...|\n",
      "|2021-06-02 09:54:...|       1|208174e8c458|54.210.20.202 - -...|/usr/share/logsta...|\n",
      "|2021-06-02 09:54:...|       1|208174e8c458|82.193.121.3 - - ...|/usr/share/logsta...|\n",
      "|2021-06-02 09:54:...|       1|208174e8c458|95.91.241.90 - - ...|/usr/share/logsta...|\n",
      "|2021-06-02 09:54:...|       1|208174e8c458|54.210.20.202 - -...|/usr/share/logsta...|\n",
      "|2021-06-02 09:54:...|       1|208174e8c458|95.91.241.90 - - ...|/usr/share/logsta...|\n",
      "|2021-06-02 09:54:...|       1|208174e8c458|52.57.254.14 - - ...|/usr/share/logsta...|\n",
      "|2021-06-02 09:54:...|       1|208174e8c458|95.91.241.90 - - ...|/usr/share/logsta...|\n",
      "|2021-06-02 09:54:...|       1|208174e8c458|54.210.20.202 - -...|/usr/share/logsta...|\n",
      "|2021-06-02 09:54:...|       1|208174e8c458|216.131.94.96 - -...|/usr/share/logsta...|\n",
      "|2021-06-02 09:54:...|       1|208174e8c458|54.210.20.202 - -...|/usr/share/logsta...|\n",
      "+--------------------+--------+------------+--------------------+--------------------+\n",
      "only showing top 20 rows\n",
      "\n"
     ]
    }
   ],
   "metadata": {}
  },
  {
   "cell_type": "code",
   "execution_count": null,
   "source": [],
   "outputs": [],
   "metadata": {}
  }
 ],
 "metadata": {
  "kernelspec": {
   "display_name": "Python 3",
   "language": "python",
   "name": "python3"
  },
  "language_info": {
   "codemirror_mode": {
    "name": "ipython",
    "version": 3
   },
   "file_extension": ".py",
   "mimetype": "text/x-python",
   "name": "python",
   "nbconvert_exporter": "python",
   "pygments_lexer": "ipython3",
   "version": "3.7.10"
  }
 },
 "nbformat": 4,
 "nbformat_minor": 5
}